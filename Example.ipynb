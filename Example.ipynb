{
 "cells": [
  {
   "cell_type": "code",
   "execution_count": 10,
   "metadata": {},
   "outputs": [],
   "source": [
    "import numpy as np\n",
    "import seaborn as sns\n",
    "from scipy import stats\n",
    "import numpy as np\n",
    "\n",
    "%matplotlib inline"
   ]
  },
  {
   "cell_type": "code",
   "execution_count": 31,
   "metadata": {},
   "outputs": [
    {
     "data": {
      "image/png": "[encoded data removed]",
      "text/plain": [
       "<Figure size 432x432 with 3 Axes>"
      ]
     },
     "metadata": {
      "needs_background": "light"
     },
     "output_type": "display_data"
    }
   ],
   "source": [
    "data = np.load(\"data.npy\")\n",
    "h = sns.jointplot(data[0], data[1], kind='kde', stat_func=None);\n",
    "h.set_axis_labels('X1', 'X2');"
   ]
  },
  {
   "cell_type": "code",
   "execution_count": 55,
   "metadata": {},
   "outputs": [],
   "source": [
    "class Copula(object):\n",
    "    \n",
    "    def __init__(self):\n",
    "        pass\n",
    "    \n",
    "    def to_uniform(self, samples, mapping):\n",
    "        return mapping.cdf(samples)\n",
    "\n",
    "\n",
    "    def joint_to_gaussian(self, X):\n",
    "\n",
    "        gumbel = stats.distributions.gumbel_l()\n",
    "        beta = stats.distributions.beta(a=10, b=2)\n",
    "\n",
    "        u1 = self.to_uniform(X[0], gumbel)\n",
    "        u2 = self.to_uniform(X[1], beta)\n",
    "\n",
    "        norm = stats.distributions.norm()\n",
    "\n",
    "        g1 = norm.ppf(u1)\n",
    "        g2 = norm.ppf(u2)\n",
    "\n",
    "        return (g1, g2)\n",
    "\n",
    "\n",
    "    def compute_covariant(self, G):\n",
    "        n_samples = G[0].shape[0]\n",
    "\n",
    "        mu_X1 = np.mean(G[0])\n",
    "        mu_X2 = np.mean(G[1])\n",
    "\n",
    "        # manually calculate X1/X1 variance, X2/X2 variance, and X1/X2 variance\n",
    "        a = np.dot((G[0] - mu_X1), (G[0] - mu_X2))/n_samples\n",
    "        b = np.dot((G[0] - mu_X1), (G[1] - mu_X2))/n_samples\n",
    "        d = np.dot((G[1] - mu_X2), (G[1] - mu_X2))/n_samples\n",
    "\n",
    "        recovered_covariant = [[a, b], [b, d]]\n",
    "        return recovered_covariant\n",
    "\n",
    "    def fit(self, X):\n",
    "        G = self.joint_to_gaussian(X)\n",
    "        C = self.compute_covariant(G)\n",
    "        self.gaussian = stats.multivariate_normal(mean=[0, 0], cov=C)\n",
    "        return self\n",
    "    \n",
    "    \n",
    "    def sample(self, k):\n",
    "        X = self.gaussian.rvs(k)\n",
    "\n",
    "        # to unfirom\n",
    "        norm = stats.norm()\n",
    "        U = norm.cdf(X)\n",
    "\n",
    "        m1 = stats.gumbel_l()\n",
    "        m2 = stats.beta(a=10, b=2)\n",
    "\n",
    "        Y0 = m1.ppf(U[:, 0])\n",
    "        Y1 = m2.ppf(U[:, 1])\n",
    "\n",
    "        return (Y0, Y1)"
   ]
  },
  {
   "cell_type": "code",
   "execution_count": 56,
   "metadata": {},
   "outputs": [],
   "source": [
    "Generator = Copula()"
   ]
  },
  {
   "cell_type": "code",
   "execution_count": 57,
   "metadata": {},
   "outputs": [
    {
     "data": {
      "text/plain": [
       "<__main__.Copula at 0x7fe93fc26df0>"
      ]
     },
     "execution_count": 57,
     "metadata": {},
     "output_type": "execute_result"
    }
   ],
   "source": [
    "Generator.fit(X)"
   ]
  },
  {
   "cell_type": "code",
   "execution_count": 58,
   "metadata": {},
   "outputs": [],
   "source": [
    "A, B = Generator.sample(1000)"
   ]
  },
  {
   "cell_type": "code",
   "execution_count": null,
   "metadata": {},
   "outputs": [],
   "source": [
    "sns.jointplot(A, B, kind='kde', stat_func=None);"
   ]
  },
  {
   "cell_type": "code",
   "execution_count": null,
   "metadata": {},
   "outputs": [],
   "source": []
  }
 ],
 "metadata": {
  "kernelspec": {
   "display_name": "Python 3",
   "language": "python",
   "name": "python3"
  },
  "language_info": {
   "codemirror_mode": {
    "name": "ipython",
    "version": 3
   },
   "file_extension": ".py",
   "mimetype": "text/x-python",
   "name": "python",
   "nbconvert_exporter": "python",
   "pygments_lexer": "ipython3",
   "version": "3.8.3"
  }
 },
 "nbformat": 4,
 "nbformat_minor": 4
}
